{
 "cells": [
  {
   "cell_type": "markdown",
   "id": "080c9550",
   "metadata": {
    "papermill": {
     "duration": 0.008471,
     "end_time": "2022-08-07T16:37:41.315349",
     "exception": false,
     "start_time": "2022-08-07T16:37:41.306878",
     "status": "completed"
    },
    "tags": []
   },
   "source": [
    "# Adveriting and Sales Data (LinearRegression)\n",
    "This data is about the relation between Sales and Marketing at different Media ( TVs , Radio and Social Media ).\n",
    "\n",
    "*Here* we will make a linear Regressor and Correlation to show the relation between Data "
   ]
  },
  {
   "cell_type": "code",
   "execution_count": 1,
   "id": "abd26b4d",
   "metadata": {
    "execution": {
     "iopub.execute_input": "2022-08-07T16:37:41.331564Z",
     "iopub.status.busy": "2022-08-07T16:37:41.330996Z",
     "iopub.status.idle": "2022-08-07T16:37:41.347403Z",
     "shell.execute_reply": "2022-08-07T16:37:41.346245Z"
    },
    "papermill": {
     "duration": 0.027353,
     "end_time": "2022-08-07T16:37:41.350053",
     "exception": false,
     "start_time": "2022-08-07T16:37:41.322700",
     "status": "completed"
    },
    "tags": []
   },
   "outputs": [],
   "source": [
    "import numpy as np\n",
    "import pandas as pd\n",
    "import matplotlib.pyplot as plt\n",
    "%matplotlib inline\n"
   ]
  },
  {
   "cell_type": "code",
   "execution_count": 2,
   "id": "bd9cf4d7",
   "metadata": {
    "execution": {
     "iopub.execute_input": "2022-08-07T16:37:41.367436Z",
     "iopub.status.busy": "2022-08-07T16:37:41.366973Z",
     "iopub.status.idle": "2022-08-07T16:37:41.416026Z",
     "shell.execute_reply": "2022-08-07T16:37:41.414884Z"
    },
    "papermill": {
     "duration": 0.061547,
     "end_time": "2022-08-07T16:37:41.419441",
     "exception": false,
     "start_time": "2022-08-07T16:37:41.357894",
     "status": "completed"
    },
    "tags": []
   },
   "outputs": [
    {
     "data": {
      "text/html": [
       "<div>\n",
       "<style scoped>\n",
       "    .dataframe tbody tr th:only-of-type {\n",
       "        vertical-align: middle;\n",
       "    }\n",
       "\n",
       "    .dataframe tbody tr th {\n",
       "        vertical-align: top;\n",
       "    }\n",
       "\n",
       "    .dataframe thead th {\n",
       "        text-align: right;\n",
       "    }\n",
       "</style>\n",
       "<table border=\"1\" class=\"dataframe\">\n",
       "  <thead>\n",
       "    <tr style=\"text-align: right;\">\n",
       "      <th></th>\n",
       "      <th>tv</th>\n",
       "      <th>radio</th>\n",
       "      <th>social_media</th>\n",
       "      <th>influencer</th>\n",
       "      <th>sales</th>\n",
       "    </tr>\n",
       "  </thead>\n",
       "  <tbody>\n",
       "    <tr>\n",
       "      <th>0</th>\n",
       "      <td>16000.0</td>\n",
       "      <td>6566.23</td>\n",
       "      <td>2907.98</td>\n",
       "      <td>Mega</td>\n",
       "      <td>54732.76</td>\n",
       "    </tr>\n",
       "    <tr>\n",
       "      <th>1</th>\n",
       "      <td>13000.0</td>\n",
       "      <td>9237.76</td>\n",
       "      <td>2409.57</td>\n",
       "      <td>Mega</td>\n",
       "      <td>46677.90</td>\n",
       "    </tr>\n",
       "    <tr>\n",
       "      <th>2</th>\n",
       "      <td>41000.0</td>\n",
       "      <td>15886.45</td>\n",
       "      <td>2913.41</td>\n",
       "      <td>Mega</td>\n",
       "      <td>150177.83</td>\n",
       "    </tr>\n",
       "    <tr>\n",
       "      <th>3</th>\n",
       "      <td>83000.0</td>\n",
       "      <td>30020.03</td>\n",
       "      <td>6922.30</td>\n",
       "      <td>Mega</td>\n",
       "      <td>298246.34</td>\n",
       "    </tr>\n",
       "    <tr>\n",
       "      <th>4</th>\n",
       "      <td>15000.0</td>\n",
       "      <td>8437.41</td>\n",
       "      <td>1406.00</td>\n",
       "      <td>Micro</td>\n",
       "      <td>56594.18</td>\n",
       "    </tr>\n",
       "    <tr>\n",
       "      <th>5</th>\n",
       "      <td>29000.0</td>\n",
       "      <td>9614.38</td>\n",
       "      <td>1027.16</td>\n",
       "      <td>Mega</td>\n",
       "      <td>105889.15</td>\n",
       "    </tr>\n",
       "    <tr>\n",
       "      <th>6</th>\n",
       "      <td>55000.0</td>\n",
       "      <td>24893.81</td>\n",
       "      <td>4273.60</td>\n",
       "      <td>Micro</td>\n",
       "      <td>198679.82</td>\n",
       "    </tr>\n",
       "    <tr>\n",
       "      <th>7</th>\n",
       "      <td>31000.0</td>\n",
       "      <td>17355.04</td>\n",
       "      <td>2289.85</td>\n",
       "      <td>Nano</td>\n",
       "      <td>108733.93</td>\n",
       "    </tr>\n",
       "    <tr>\n",
       "      <th>8</th>\n",
       "      <td>76000.0</td>\n",
       "      <td>24648.90</td>\n",
       "      <td>7130.12</td>\n",
       "      <td>Macro</td>\n",
       "      <td>270189.40</td>\n",
       "    </tr>\n",
       "    <tr>\n",
       "      <th>9</th>\n",
       "      <td>13000.0</td>\n",
       "      <td>431.13</td>\n",
       "      <td>2229.42</td>\n",
       "      <td>Mega</td>\n",
       "      <td>48280.58</td>\n",
       "    </tr>\n",
       "    <tr>\n",
       "      <th>10</th>\n",
       "      <td>62000.0</td>\n",
       "      <td>24345.19</td>\n",
       "      <td>5151.48</td>\n",
       "      <td>Nano</td>\n",
       "      <td>224961.02</td>\n",
       "    </tr>\n",
       "    <tr>\n",
       "      <th>11</th>\n",
       "      <td>42000.0</td>\n",
       "      <td>15807.34</td>\n",
       "      <td>3194.92</td>\n",
       "      <td>Mega</td>\n",
       "      <td>145543.99</td>\n",
       "    </tr>\n",
       "    <tr>\n",
       "      <th>12</th>\n",
       "      <td>64000.0</td>\n",
       "      <td>20240.42</td>\n",
       "      <td>3921.15</td>\n",
       "      <td>Micro</td>\n",
       "      <td>229632.38</td>\n",
       "    </tr>\n",
       "    <tr>\n",
       "      <th>13</th>\n",
       "      <td>34000.0</td>\n",
       "      <td>226.33</td>\n",
       "      <td>2372.71</td>\n",
       "      <td>Nano</td>\n",
       "      <td>121336.42</td>\n",
       "    </tr>\n",
       "    <tr>\n",
       "      <th>14</th>\n",
       "      <td>36000.0</td>\n",
       "      <td>3900.20</td>\n",
       "      <td>60.40</td>\n",
       "      <td>Nano</td>\n",
       "      <td>123526.11</td>\n",
       "    </tr>\n",
       "    <tr>\n",
       "      <th>15</th>\n",
       "      <td>60000.0</td>\n",
       "      <td>22353.72</td>\n",
       "      <td>940.80</td>\n",
       "      <td>Mega</td>\n",
       "      <td>212764.40</td>\n",
       "    </tr>\n",
       "    <tr>\n",
       "      <th>16</th>\n",
       "      <td>25000.0</td>\n",
       "      <td>9905.84</td>\n",
       "      <td>1853.22</td>\n",
       "      <td>Micro</td>\n",
       "      <td>89819.92</td>\n",
       "    </tr>\n",
       "    <tr>\n",
       "      <th>17</th>\n",
       "      <td>100000.0</td>\n",
       "      <td>36116.09</td>\n",
       "      <td>3674.30</td>\n",
       "      <td>Macro</td>\n",
       "      <td>353804.64</td>\n",
       "    </tr>\n",
       "    <tr>\n",
       "      <th>18</th>\n",
       "      <td>92000.0</td>\n",
       "      <td>40736.99</td>\n",
       "      <td>4636.56</td>\n",
       "      <td>Nano</td>\n",
       "      <td>329350.54</td>\n",
       "    </tr>\n",
       "    <tr>\n",
       "      <th>19</th>\n",
       "      <td>46000.0</td>\n",
       "      <td>12695.09</td>\n",
       "      <td>3884.58</td>\n",
       "      <td>Macro</td>\n",
       "      <td>162191.33</td>\n",
       "    </tr>\n",
       "  </tbody>\n",
       "</table>\n",
       "</div>"
      ],
      "text/plain": [
       "          tv     radio  social_media influencer      sales\n",
       "0    16000.0   6566.23       2907.98       Mega   54732.76\n",
       "1    13000.0   9237.76       2409.57       Mega   46677.90\n",
       "2    41000.0  15886.45       2913.41       Mega  150177.83\n",
       "3    83000.0  30020.03       6922.30       Mega  298246.34\n",
       "4    15000.0   8437.41       1406.00      Micro   56594.18\n",
       "5    29000.0   9614.38       1027.16       Mega  105889.15\n",
       "6    55000.0  24893.81       4273.60      Micro  198679.82\n",
       "7    31000.0  17355.04       2289.85       Nano  108733.93\n",
       "8    76000.0  24648.90       7130.12      Macro  270189.40\n",
       "9    13000.0    431.13       2229.42       Mega   48280.58\n",
       "10   62000.0  24345.19       5151.48       Nano  224961.02\n",
       "11   42000.0  15807.34       3194.92       Mega  145543.99\n",
       "12   64000.0  20240.42       3921.15      Micro  229632.38\n",
       "13   34000.0    226.33       2372.71       Nano  121336.42\n",
       "14   36000.0   3900.20         60.40       Nano  123526.11\n",
       "15   60000.0  22353.72        940.80       Mega  212764.40\n",
       "16   25000.0   9905.84       1853.22      Micro   89819.92\n",
       "17  100000.0  36116.09       3674.30      Macro  353804.64\n",
       "18   92000.0  40736.99       4636.56       Nano  329350.54\n",
       "19   46000.0  12695.09       3884.58      Macro  162191.33"
      ]
     },
     "execution_count": 2,
     "metadata": {},
     "output_type": "execute_result"
    }
   ],
   "source": [
    "df = pd.read_csv('../input/advertising-and-sales/advertising_and_sales_clean.csv')\n",
    "df.head(20)"
   ]
  },
  {
   "cell_type": "markdown",
   "id": "037adb96",
   "metadata": {
    "papermill": {
     "duration": 0.006862,
     "end_time": "2022-08-07T16:37:41.434048",
     "exception": false,
     "start_time": "2022-08-07T16:37:41.427186",
     "status": "completed"
    },
    "tags": []
   },
   "source": [
    "## EDA"
   ]
  },
  {
   "cell_type": "code",
   "execution_count": 3,
   "id": "041705f5",
   "metadata": {
    "execution": {
     "iopub.execute_input": "2022-08-07T16:37:41.450807Z",
     "iopub.status.busy": "2022-08-07T16:37:41.449365Z",
     "iopub.status.idle": "2022-08-07T16:37:41.489095Z",
     "shell.execute_reply": "2022-08-07T16:37:41.487725Z"
    },
    "papermill": {
     "duration": 0.050819,
     "end_time": "2022-08-07T16:37:41.491778",
     "exception": false,
     "start_time": "2022-08-07T16:37:41.440959",
     "status": "completed"
    },
    "tags": []
   },
   "outputs": [
    {
     "data": {
      "text/html": [
       "<div>\n",
       "<style scoped>\n",
       "    .dataframe tbody tr th:only-of-type {\n",
       "        vertical-align: middle;\n",
       "    }\n",
       "\n",
       "    .dataframe tbody tr th {\n",
       "        vertical-align: top;\n",
       "    }\n",
       "\n",
       "    .dataframe thead th {\n",
       "        text-align: right;\n",
       "    }\n",
       "</style>\n",
       "<table border=\"1\" class=\"dataframe\">\n",
       "  <thead>\n",
       "    <tr style=\"text-align: right;\">\n",
       "      <th></th>\n",
       "      <th>tv</th>\n",
       "      <th>radio</th>\n",
       "      <th>social_media</th>\n",
       "      <th>sales</th>\n",
       "    </tr>\n",
       "  </thead>\n",
       "  <tbody>\n",
       "    <tr>\n",
       "      <th>count</th>\n",
       "      <td>4546.000000</td>\n",
       "      <td>4546.000000</td>\n",
       "      <td>4546.000000</td>\n",
       "      <td>4546.000000</td>\n",
       "    </tr>\n",
       "    <tr>\n",
       "      <th>mean</th>\n",
       "      <td>54062.912451</td>\n",
       "      <td>18157.533110</td>\n",
       "      <td>3323.472829</td>\n",
       "      <td>192413.332112</td>\n",
       "    </tr>\n",
       "    <tr>\n",
       "      <th>std</th>\n",
       "      <td>26104.941838</td>\n",
       "      <td>9663.259642</td>\n",
       "      <td>2211.253915</td>\n",
       "      <td>93019.873216</td>\n",
       "    </tr>\n",
       "    <tr>\n",
       "      <th>min</th>\n",
       "      <td>10000.000000</td>\n",
       "      <td>0.680000</td>\n",
       "      <td>0.030000</td>\n",
       "      <td>31199.410000</td>\n",
       "    </tr>\n",
       "    <tr>\n",
       "      <th>25%</th>\n",
       "      <td>32000.000000</td>\n",
       "      <td>10555.355000</td>\n",
       "      <td>1530.822500</td>\n",
       "      <td>112434.610000</td>\n",
       "    </tr>\n",
       "    <tr>\n",
       "      <th>50%</th>\n",
       "      <td>53000.000000</td>\n",
       "      <td>17859.515000</td>\n",
       "      <td>3055.565000</td>\n",
       "      <td>188963.680000</td>\n",
       "    </tr>\n",
       "    <tr>\n",
       "      <th>75%</th>\n",
       "      <td>77000.000000</td>\n",
       "      <td>25640.605000</td>\n",
       "      <td>4804.922500</td>\n",
       "      <td>272324.240000</td>\n",
       "    </tr>\n",
       "    <tr>\n",
       "      <th>max</th>\n",
       "      <td>100000.000000</td>\n",
       "      <td>48871.160000</td>\n",
       "      <td>13981.660000</td>\n",
       "      <td>364079.750000</td>\n",
       "    </tr>\n",
       "  </tbody>\n",
       "</table>\n",
       "</div>"
      ],
      "text/plain": [
       "                  tv         radio  social_media          sales\n",
       "count    4546.000000   4546.000000   4546.000000    4546.000000\n",
       "mean    54062.912451  18157.533110   3323.472829  192413.332112\n",
       "std     26104.941838   9663.259642   2211.253915   93019.873216\n",
       "min     10000.000000      0.680000      0.030000   31199.410000\n",
       "25%     32000.000000  10555.355000   1530.822500  112434.610000\n",
       "50%     53000.000000  17859.515000   3055.565000  188963.680000\n",
       "75%     77000.000000  25640.605000   4804.922500  272324.240000\n",
       "max    100000.000000  48871.160000  13981.660000  364079.750000"
      ]
     },
     "execution_count": 3,
     "metadata": {},
     "output_type": "execute_result"
    }
   ],
   "source": [
    "df.describe()"
   ]
  },
  {
   "cell_type": "code",
   "execution_count": 4,
   "id": "34275711",
   "metadata": {
    "execution": {
     "iopub.execute_input": "2022-08-07T16:37:41.518177Z",
     "iopub.status.busy": "2022-08-07T16:37:41.513989Z",
     "iopub.status.idle": "2022-08-07T16:37:41.538039Z",
     "shell.execute_reply": "2022-08-07T16:37:41.536849Z"
    },
    "papermill": {
     "duration": 0.04148,
     "end_time": "2022-08-07T16:37:41.541870",
     "exception": false,
     "start_time": "2022-08-07T16:37:41.500390",
     "status": "completed"
    },
    "tags": []
   },
   "outputs": [
    {
     "name": "stdout",
     "output_type": "stream",
     "text": [
      "<class 'pandas.core.frame.DataFrame'>\n",
      "RangeIndex: 4546 entries, 0 to 4545\n",
      "Data columns (total 5 columns):\n",
      " #   Column        Non-Null Count  Dtype  \n",
      "---  ------        --------------  -----  \n",
      " 0   tv            4546 non-null   float64\n",
      " 1   radio         4546 non-null   float64\n",
      " 2   social_media  4546 non-null   float64\n",
      " 3   influencer    4546 non-null   object \n",
      " 4   sales         4546 non-null   float64\n",
      "dtypes: float64(4), object(1)\n",
      "memory usage: 177.7+ KB\n"
     ]
    }
   ],
   "source": [
    "df.info()"
   ]
  },
  {
   "cell_type": "code",
   "execution_count": 5,
   "id": "eade342f",
   "metadata": {
    "execution": {
     "iopub.execute_input": "2022-08-07T16:37:41.570544Z",
     "iopub.status.busy": "2022-08-07T16:37:41.569400Z",
     "iopub.status.idle": "2022-08-07T16:37:41.584796Z",
     "shell.execute_reply": "2022-08-07T16:37:41.583298Z"
    },
    "papermill": {
     "duration": 0.032382,
     "end_time": "2022-08-07T16:37:41.588606",
     "exception": false,
     "start_time": "2022-08-07T16:37:41.556224",
     "status": "completed"
    },
    "tags": []
   },
   "outputs": [
    {
     "name": "stdout",
     "output_type": "stream",
     "text": [
      "              tv  radio  social_media  sales\n",
      "influencer                                  \n",
      "Macro       1112   1112          1112   1112\n",
      "Mega        1152   1152          1152   1152\n",
      "Micro       1148   1148          1148   1148\n",
      "Nano        1134   1134          1134   1134\n"
     ]
    }
   ],
   "source": [
    "groupping=df.groupby('influencer').count()\n",
    "print(groupping)"
   ]
  },
  {
   "cell_type": "code",
   "execution_count": 6,
   "id": "df142c21",
   "metadata": {
    "execution": {
     "iopub.execute_input": "2022-08-07T16:37:41.613934Z",
     "iopub.status.busy": "2022-08-07T16:37:41.613508Z",
     "iopub.status.idle": "2022-08-07T16:37:41.903745Z",
     "shell.execute_reply": "2022-08-07T16:37:41.902391Z"
    },
    "papermill": {
     "duration": 0.306034,
     "end_time": "2022-08-07T16:37:41.906612",
     "exception": false,
     "start_time": "2022-08-07T16:37:41.600578",
     "status": "completed"
    },
    "tags": []
   },
   "outputs": [
    {
     "data": {
      "text/plain": [
       "<matplotlib.collections.PathCollection at 0x7f0aa0b749d0>"
      ]
     },
     "execution_count": 6,
     "metadata": {},
     "output_type": "execute_result"
    },
    {
     "data": {
      "image/png": "[encoded data removed]",
      "text/plain": [
       "<Figure size 432x288 with 1 Axes>"
      ]
     },
     "metadata": {
      "needs_background": "light"
     },
     "output_type": "display_data"
    }
   ],
   "source": [
    "plt.scatter(df['sales'],df['tv'])"
   ]
  },
  {
   "cell_type": "code",
   "execution_count": 7,
   "id": "1d83f668",
   "metadata": {
    "execution": {
     "iopub.execute_input": "2022-08-07T16:37:41.925111Z",
     "iopub.status.busy": "2022-08-07T16:37:41.924553Z",
     "iopub.status.idle": "2022-08-07T16:37:42.183252Z",
     "shell.execute_reply": "2022-08-07T16:37:42.182057Z"
    },
    "papermill": {
     "duration": 0.271394,
     "end_time": "2022-08-07T16:37:42.186467",
     "exception": false,
     "start_time": "2022-08-07T16:37:41.915073",
     "status": "completed"
    },
    "tags": []
   },
   "outputs": [
    {
     "data": {
      "text/plain": [
       "<matplotlib.collections.PathCollection at 0x7f0ab2608fd0>"
      ]
     },
     "execution_count": 7,
     "metadata": {},
     "output_type": "execute_result"
    },
    {
     "data": {
      "image/png": "[encoded data removed]",
      "text/plain": [
       "<Figure size 432x288 with 1 Axes>"
      ]
     },
     "metadata": {
      "needs_background": "light"
     },
     "output_type": "display_data"
    }
   ],
   "source": [
    "plt.scatter(df['sales'],df['radio'] )"
   ]
  },
  {
   "cell_type": "code",
   "execution_count": 8,
   "id": "c98a93d0",
   "metadata": {
    "execution": {
     "iopub.execute_input": "2022-08-07T16:37:42.208106Z",
     "iopub.status.busy": "2022-08-07T16:37:42.207682Z",
     "iopub.status.idle": "2022-08-07T16:37:42.462256Z",
     "shell.execute_reply": "2022-08-07T16:37:42.461001Z"
    },
    "papermill": {
     "duration": 0.267451,
     "end_time": "2022-08-07T16:37:42.464749",
     "exception": false,
     "start_time": "2022-08-07T16:37:42.197298",
     "status": "completed"
    },
    "tags": []
   },
   "outputs": [
    {
     "data": {
      "text/plain": [
       "<matplotlib.collections.PathCollection at 0x7f0ab25bbcd0>"
      ]
     },
     "execution_count": 8,
     "metadata": {},
     "output_type": "execute_result"
    },
    {
     "data": {
      "image/png": "[encoded data removed]",
      "text/plain": [
       "<Figure size 432x288 with 1 Axes>"
      ]
     },
     "metadata": {
      "needs_background": "light"
     },
     "output_type": "display_data"
    }
   ],
   "source": [
    "plt.scatter(df['sales'] , df['social_media'])"
   ]
  },
  {
   "cell_type": "markdown",
   "id": "9e45fc40",
   "metadata": {
    "papermill": {
     "duration": 0.009233,
     "end_time": "2022-08-07T16:37:42.483949",
     "exception": false,
     "start_time": "2022-08-07T16:37:42.474716",
     "status": "completed"
    },
    "tags": []
   },
   "source": [
    "# Linear Regression "
   ]
  },
  {
   "cell_type": "code",
   "execution_count": 9,
   "id": "2bf2376c",
   "metadata": {
    "execution": {
     "iopub.execute_input": "2022-08-07T16:37:42.505561Z",
     "iopub.status.busy": "2022-08-07T16:37:42.504129Z",
     "iopub.status.idle": "2022-08-07T16:37:42.513908Z",
     "shell.execute_reply": "2022-08-07T16:37:42.512548Z"
    },
    "papermill": {
     "duration": 0.02316,
     "end_time": "2022-08-07T16:37:42.516507",
     "exception": false,
     "start_time": "2022-08-07T16:37:42.493347",
     "status": "completed"
    },
    "tags": []
   },
   "outputs": [
    {
     "name": "stdout",
     "output_type": "stream",
     "text": [
      "<class 'numpy.ndarray'> <class 'numpy.ndarray'>\n"
     ]
    }
   ],
   "source": [
    "X = df.drop('sales',axis=1).values\n",
    "y = df['sales'].values\n",
    "print(type(X),type(y))"
   ]
  },
  {
   "cell_type": "code",
   "execution_count": 10,
   "id": "1f218b4d",
   "metadata": {
    "execution": {
     "iopub.execute_input": "2022-08-07T16:37:42.537518Z",
     "iopub.status.busy": "2022-08-07T16:37:42.536063Z",
     "iopub.status.idle": "2022-08-07T16:37:42.546277Z",
     "shell.execute_reply": "2022-08-07T16:37:42.543389Z"
    },
    "papermill": {
     "duration": 0.023178,
     "end_time": "2022-08-07T16:37:42.548859",
     "exception": false,
     "start_time": "2022-08-07T16:37:42.525681",
     "status": "completed"
    },
    "tags": []
   },
   "outputs": [
    {
     "name": "stdout",
     "output_type": "stream",
     "text": [
      "(4546,) (4546,)\n"
     ]
    }
   ],
   "source": [
    "X_sm = X[:,2]\n",
    "print(X_sm.shape,y.shape)"
   ]
  },
  {
   "cell_type": "code",
   "execution_count": 11,
   "id": "d7589848",
   "metadata": {
    "execution": {
     "iopub.execute_input": "2022-08-07T16:37:42.568875Z",
     "iopub.status.busy": "2022-08-07T16:37:42.568491Z",
     "iopub.status.idle": "2022-08-07T16:37:42.575973Z",
     "shell.execute_reply": "2022-08-07T16:37:42.574406Z"
    },
    "papermill": {
     "duration": 0.020707,
     "end_time": "2022-08-07T16:37:42.578653",
     "exception": false,
     "start_time": "2022-08-07T16:37:42.557946",
     "status": "completed"
    },
    "tags": []
   },
   "outputs": [
    {
     "name": "stdout",
     "output_type": "stream",
     "text": [
      "(4546, 1)\n"
     ]
    }
   ],
   "source": [
    "X_sm= X_sm.reshape(-1,1)\n",
    "print(X_sm.shape)"
   ]
  },
  {
   "cell_type": "code",
   "execution_count": 12,
   "id": "550294c2",
   "metadata": {
    "execution": {
     "iopub.execute_input": "2022-08-07T16:37:42.598961Z",
     "iopub.status.busy": "2022-08-07T16:37:42.598535Z",
     "iopub.status.idle": "2022-08-07T16:37:42.861755Z",
     "shell.execute_reply": "2022-08-07T16:37:42.860565Z"
    },
    "papermill": {
     "duration": 0.276449,
     "end_time": "2022-08-07T16:37:42.864615",
     "exception": false,
     "start_time": "2022-08-07T16:37:42.588166",
     "status": "completed"
    },
    "tags": []
   },
   "outputs": [
    {
     "data": {
      "image/png": "[encoded data removed]",
      "text/plain": [
       "<Figure size 432x288 with 1 Axes>"
      ]
     },
     "metadata": {
      "needs_background": "light"
     },
     "output_type": "display_data"
    }
   ],
   "source": [
    "plt.scatter(X_sm,y)\n",
    "plt.xlabel(\"TV ads.\")\n",
    "plt.ylabel(\"Sales\")\n",
    "plt.show()"
   ]
  },
  {
   "cell_type": "markdown",
   "id": "0e50e707",
   "metadata": {
    "papermill": {
     "duration": 0.009837,
     "end_time": "2022-08-07T16:37:42.885135",
     "exception": false,
     "start_time": "2022-08-07T16:37:42.875298",
     "status": "completed"
    },
    "tags": []
   },
   "source": [
    "### Fitteing a regression model"
   ]
  },
  {
   "cell_type": "code",
   "execution_count": 13,
   "id": "b497f8f2",
   "metadata": {
    "execution": {
     "iopub.execute_input": "2022-08-07T16:37:42.906437Z",
     "iopub.status.busy": "2022-08-07T16:37:42.905725Z",
     "iopub.status.idle": "2022-08-07T16:37:44.306237Z",
     "shell.execute_reply": "2022-08-07T16:37:44.305300Z"
    },
    "papermill": {
     "duration": 1.414036,
     "end_time": "2022-08-07T16:37:44.308717",
     "exception": false,
     "start_time": "2022-08-07T16:37:42.894681",
     "status": "completed"
    },
    "tags": []
   },
   "outputs": [
    {
     "data": {
      "image/png": "[encoded data removed]",
      "text/plain": [
       "<Figure size 432x288 with 1 Axes>"
      ]
     },
     "metadata": {
      "needs_background": "light"
     },
     "output_type": "display_data"
    }
   ],
   "source": [
    "from sklearn.linear_model import LinearRegression\n",
    "lreg = LinearRegression()\n",
    "lreg.fit(X_sm,y)\n",
    "predictions = lreg.predict(X_sm)\n",
    "plt.scatter(X_sm,y)\n",
    "plt.plot(X_sm,predictions,color = 'r')\n",
    "plt.xlabel(\"Social Media ads\")\n",
    "plt.ylabel(\"Sales\")\n",
    "plt.show()"
   ]
  },
  {
   "cell_type": "markdown",
   "id": "65dd0ca1",
   "metadata": {
    "papermill": {
     "duration": 0.010374,
     "end_time": "2022-08-07T16:37:44.329882",
     "exception": false,
     "start_time": "2022-08-07T16:37:44.319508",
     "status": "completed"
    },
    "tags": []
   },
   "source": [
    "Correlation factor for pearsonr , spearmanr and kendalltau"
   ]
  },
  {
   "cell_type": "code",
   "execution_count": 14,
   "id": "e42f8751",
   "metadata": {
    "execution": {
     "iopub.execute_input": "2022-08-07T16:37:44.352192Z",
     "iopub.status.busy": "2022-08-07T16:37:44.351000Z",
     "iopub.status.idle": "2022-08-07T16:37:44.368643Z",
     "shell.execute_reply": "2022-08-07T16:37:44.367623Z"
    },
    "papermill": {
     "duration": 0.031613,
     "end_time": "2022-08-07T16:37:44.371279",
     "exception": false,
     "start_time": "2022-08-07T16:37:44.339666",
     "status": "completed"
    },
    "tags": []
   },
   "outputs": [],
   "source": [
    "import scipy.stats\n",
    "X_sm = X_sm.reshape(4546,)\n",
    "(corr_pear_fitted , p_value_pear_fitted) = scipy.stats.pearsonr(X_sm,predictions)\n",
    "(corr_spear_fitted ,p_value_spear_fitted) = scipy.stats.spearmanr(X_sm,predictions)\n",
    "(corr_kendal_fitted ,p_value_kendal_fitted) = scipy.stats.kendalltau(X_sm,predictions)"
   ]
  },
  {
   "cell_type": "code",
   "execution_count": 15,
   "id": "22143120",
   "metadata": {
    "execution": {
     "iopub.execute_input": "2022-08-07T16:37:44.395628Z",
     "iopub.status.busy": "2022-08-07T16:37:44.395010Z",
     "iopub.status.idle": "2022-08-07T16:37:44.401215Z",
     "shell.execute_reply": "2022-08-07T16:37:44.400221Z"
    },
    "papermill": {
     "duration": 0.021781,
     "end_time": "2022-08-07T16:37:44.404311",
     "exception": false,
     "start_time": "2022-08-07T16:37:44.382530",
     "status": "completed"
    },
    "tags": []
   },
   "outputs": [
    {
     "name": "stdout",
     "output_type": "stream",
     "text": [
      "Correlation of pearson social media with the fitted data : 0.9999999999999999\n",
      "correlation of spearman social media with the fitted data : 1.0\n",
      "correlation of kendall social media with the fitted data : 1.0\n"
     ]
    }
   ],
   "source": [
    "print('Correlation of pearson social media with the fitted data : {}'.format(corr_pear_fitted))\n",
    "print('correlation of spearman social media with the fitted data : {}'.format(corr_spear_fitted))\n",
    "print('correlation of kendall social media with the fitted data : {}'.format(corr_kendal_fitted))"
   ]
  },
  {
   "cell_type": "code",
   "execution_count": 16,
   "id": "95d0469e",
   "metadata": {
    "execution": {
     "iopub.execute_input": "2022-08-07T16:37:44.427297Z",
     "iopub.status.busy": "2022-08-07T16:37:44.426503Z",
     "iopub.status.idle": "2022-08-07T16:37:44.433874Z",
     "shell.execute_reply": "2022-08-07T16:37:44.432161Z"
    },
    "papermill": {
     "duration": 0.022376,
     "end_time": "2022-08-07T16:37:44.437187",
     "exception": false,
     "start_time": "2022-08-07T16:37:44.414811",
     "status": "completed"
    },
    "tags": []
   },
   "outputs": [
    {
     "name": "stdout",
     "output_type": "stream",
     "text": [
      "p-value for pearson social media with the fitted data : 0.0\n",
      "p-value for spearman social media with the fitted data : 0.0\n",
      "p-value for kendall social media with the fitted data : 0.0\n"
     ]
    }
   ],
   "source": [
    "print('p-value for pearson social media with the fitted data : {}'.format(p_value_pear_fitted))\n",
    "print('p-value for spearman social media with the fitted data : {}'.format(p_value_spear_fitted))\n",
    "print('p-value for kendall social media with the fitted data : {}'.format(p_value_kendal_fitted))"
   ]
  },
  {
   "cell_type": "code",
   "execution_count": 17,
   "id": "e3115824",
   "metadata": {
    "execution": {
     "iopub.execute_input": "2022-08-07T16:37:44.461986Z",
     "iopub.status.busy": "2022-08-07T16:37:44.460869Z",
     "iopub.status.idle": "2022-08-07T16:37:44.977889Z",
     "shell.execute_reply": "2022-08-07T16:37:44.976409Z"
    },
    "papermill": {
     "duration": 0.532561,
     "end_time": "2022-08-07T16:37:44.980868",
     "exception": false,
     "start_time": "2022-08-07T16:37:44.448307",
     "status": "completed"
    },
    "tags": []
   },
   "outputs": [
    {
     "data": {
      "text/plain": [
       "<AxesSubplot:>"
      ]
     },
     "execution_count": 17,
     "metadata": {},
     "output_type": "execute_result"
    },
    {
     "data": {
      "image/png": "[encoded data removed]",
      "text/plain": [
       "<Figure size 432x288 with 2 Axes>"
      ]
     },
     "metadata": {
      "needs_background": "light"
     },
     "output_type": "display_data"
    }
   ],
   "source": [
    "import seaborn as sns\n",
    "sns.heatmap(df.corr(),annot =True)"
   ]
  },
  {
   "cell_type": "code",
   "execution_count": 18,
   "id": "46382437",
   "metadata": {
    "execution": {
     "iopub.execute_input": "2022-08-07T16:37:45.005812Z",
     "iopub.status.busy": "2022-08-07T16:37:45.005300Z",
     "iopub.status.idle": "2022-08-07T16:37:45.010747Z",
     "shell.execute_reply": "2022-08-07T16:37:45.009691Z"
    },
    "papermill": {
     "duration": 0.021077,
     "end_time": "2022-08-07T16:37:45.013069",
     "exception": false,
     "start_time": "2022-08-07T16:37:44.991992",
     "status": "completed"
    },
    "tags": []
   },
   "outputs": [],
   "source": [
    "X_tv = X[:,0]\n",
    "X_rad = X[:,1]"
   ]
  },
  {
   "cell_type": "code",
   "execution_count": 19,
   "id": "09dc789b",
   "metadata": {
    "execution": {
     "iopub.execute_input": "2022-08-07T16:37:45.038224Z",
     "iopub.status.busy": "2022-08-07T16:37:45.037461Z",
     "iopub.status.idle": "2022-08-07T16:37:45.055773Z",
     "shell.execute_reply": "2022-08-07T16:37:45.054636Z"
    },
    "papermill": {
     "duration": 0.034438,
     "end_time": "2022-08-07T16:37:45.058517",
     "exception": false,
     "start_time": "2022-08-07T16:37:45.024079",
     "status": "completed"
    },
    "tags": []
   },
   "outputs": [],
   "source": [
    "(corr_pear_tv,p_value_tv)=scipy.stats.pearsonr(X_sm,X_tv)\n",
    "(corr_spear_tv,p_value_tv) = scipy.stats.spearmanr(X_sm,X_tv)\n",
    "(corr_kendal_tv,p_value_tv) = scipy.stats.kendalltau(X_sm,X_tv)"
   ]
  },
  {
   "cell_type": "code",
   "execution_count": 20,
   "id": "5e60079b",
   "metadata": {
    "execution": {
     "iopub.execute_input": "2022-08-07T16:37:45.081994Z",
     "iopub.status.busy": "2022-08-07T16:37:45.081207Z",
     "iopub.status.idle": "2022-08-07T16:37:45.088459Z",
     "shell.execute_reply": "2022-08-07T16:37:45.086637Z"
    },
    "papermill": {
     "duration": 0.022501,
     "end_time": "2022-08-07T16:37:45.092030",
     "exception": false,
     "start_time": "2022-08-07T16:37:45.069529",
     "status": "completed"
    },
    "tags": []
   },
   "outputs": [
    {
     "name": "stdout",
     "output_type": "stream",
     "text": [
      "pearson correlation between social media and tv : 0.5276874293131321\n",
      "spearman correlation between social media and tv : 0.5283872233222907\n",
      "Kendall tau correlation between social media and tv : 0.3644053913094565\n"
     ]
    }
   ],
   "source": [
    "print('pearson correlation between social media and tv : {}'.format(corr_pear_tv))\n",
    "print('spearman correlation between social media and tv : {}'.format(corr_spear_tv))\n",
    "print('Kendall tau correlation between social media and tv : {}'.format(corr_kendal_tv))"
   ]
  },
  {
   "cell_type": "markdown",
   "id": "bc062cd6",
   "metadata": {
    "papermill": {
     "duration": 0.010227,
     "end_time": "2022-08-07T16:37:45.114153",
     "exception": false,
     "start_time": "2022-08-07T16:37:45.103926",
     "status": "completed"
    },
    "tags": []
   },
   "source": [
    "**Note** : It seems that kendall tau correlation is far from the correlation we got from heat map "
   ]
  },
  {
   "cell_type": "markdown",
   "id": "89f1b30a",
   "metadata": {
    "papermill": {
     "duration": 0.010153,
     "end_time": "2022-08-07T16:37:45.134654",
     "exception": false,
     "start_time": "2022-08-07T16:37:45.124501",
     "status": "completed"
    },
    "tags": []
   },
   "source": [
    "## Now we will make colleration between sales with TVs , Radio , Social Media "
   ]
  },
  {
   "cell_type": "code",
   "execution_count": 21,
   "id": "650fe7a0",
   "metadata": {
    "execution": {
     "iopub.execute_input": "2022-08-07T16:37:45.158950Z",
     "iopub.status.busy": "2022-08-07T16:37:45.157644Z",
     "iopub.status.idle": "2022-08-07T16:37:45.178796Z",
     "shell.execute_reply": "2022-08-07T16:37:45.176655Z"
    },
    "papermill": {
     "duration": 0.036498,
     "end_time": "2022-08-07T16:37:45.181640",
     "exception": false,
     "start_time": "2022-08-07T16:37:45.145142",
     "status": "completed"
    },
    "tags": []
   },
   "outputs": [
    {
     "name": "stdout",
     "output_type": "stream",
     "text": [
      "pearson correlation between Sales and tv : 0.999497365941497\n",
      "spearman correlation between Sales and tv : 0.9994958189860506\n",
      "Kendall tau correlation between Sales and tv : 0.9837033941521164\n"
     ]
    }
   ],
   "source": [
    "(corr_pear_sales_tv,p_value_sales_tv)=scipy.stats.pearsonr(y,X_tv)\n",
    "(corr_spear_sales_tv,p_value_sales_tv) = scipy.stats.spearmanr(y,X_tv)\n",
    "(corr_kendal_sales_tv,p_value_sales_tv) = scipy.stats.kendalltau(y,X_tv)\n",
    "print('pearson correlation between Sales and tv : {}'.format(corr_pear_sales_tv))\n",
    "print('spearman correlation between Sales and tv : {}'.format(corr_spear_sales_tv))\n",
    "print('Kendall tau correlation between Sales and tv : {}'.format(corr_kendal_sales_tv))"
   ]
  },
  {
   "cell_type": "code",
   "execution_count": 22,
   "id": "3f8ac234",
   "metadata": {
    "execution": {
     "iopub.execute_input": "2022-08-07T16:37:45.205096Z",
     "iopub.status.busy": "2022-08-07T16:37:45.204371Z",
     "iopub.status.idle": "2022-08-07T16:37:45.224822Z",
     "shell.execute_reply": "2022-08-07T16:37:45.222723Z"
    },
    "papermill": {
     "duration": 0.035242,
     "end_time": "2022-08-07T16:37:45.227394",
     "exception": false,
     "start_time": "2022-08-07T16:37:45.192152",
     "status": "completed"
    },
    "tags": []
   },
   "outputs": [
    {
     "name": "stdout",
     "output_type": "stream",
     "text": [
      "pearson correlation between Sales and Radio : 0.868637813602153\n",
      "spearman correlation between Sales and Radio : 0.8733903567887087\n",
      "Kendall tau correlation between Sales and Radio : 0.6776141094422263\n"
     ]
    }
   ],
   "source": [
    "(corr_pear_sales_radio,p_value_sales_radio)=scipy.stats.pearsonr(y,X_rad)\n",
    "(corr_spear_sales_radio,p_value_sales_radio) = scipy.stats.spearmanr(y,X_rad)\n",
    "(corr_kendal_sales_radio,p_value_sales_radio) = scipy.stats.kendalltau(y,X_rad)\n",
    "print('pearson correlation between Sales and Radio : {}'.format(corr_pear_sales_radio))\n",
    "print('spearman correlation between Sales and Radio : {}'.format(corr_spear_sales_radio))\n",
    "print('Kendall tau correlation between Sales and Radio : {}'.format(corr_kendal_sales_radio))"
   ]
  },
  {
   "cell_type": "code",
   "execution_count": 23,
   "id": "473f7f25",
   "metadata": {
    "execution": {
     "iopub.execute_input": "2022-08-07T16:37:45.252094Z",
     "iopub.status.busy": "2022-08-07T16:37:45.251084Z",
     "iopub.status.idle": "2022-08-07T16:37:45.273855Z",
     "shell.execute_reply": "2022-08-07T16:37:45.272455Z"
    },
    "papermill": {
     "duration": 0.038396,
     "end_time": "2022-08-07T16:37:45.276757",
     "exception": false,
     "start_time": "2022-08-07T16:37:45.238361",
     "status": "completed"
    },
    "tags": []
   },
   "outputs": [
    {
     "name": "stdout",
     "output_type": "stream",
     "text": [
      "pearson correlation between Sales and Social media : 0.52744642201645\n",
      "spearman correlation between Sales and Social media : 0.5280717993064484\n",
      "Kendall tau correlation between Sales and Social media : 0.362235465820529\n"
     ]
    }
   ],
   "source": [
    "(corr_pear_sales_sm,p_value_sales_sm)=scipy.stats.pearsonr(y,X_sm)\n",
    "(corr_spear_sales_sm,p_value_sales_sm) = scipy.stats.spearmanr(y,X_sm)\n",
    "(corr_kendal_sales_sm,p_value_sales_sm) = scipy.stats.kendalltau(y,X_sm)\n",
    "print('pearson correlation between Sales and Social media : {}'.format(corr_pear_sales_sm))\n",
    "print('spearman correlation between Sales and Social media : {}'.format(corr_spear_sales_sm))\n",
    "print('Kendall tau correlation between Sales and Social media : {}'.format(corr_kendal_sales_sm))"
   ]
  }
 ],
 "metadata": {
  "kernelspec": {
   "display_name": "Python 3",
   "language": "python",
   "name": "python3"
  },
  "language_info": {
   "codemirror_mode": {
    "name": "ipython",
    "version": 3
   },
   "file_extension": ".py",
   "mimetype": "text/x-python",
   "name": "python",
   "nbconvert_exporter": "python",
   "pygments_lexer": "ipython3",
   "version": "3.7.12"
  },
  "papermill": {
   "default_parameters": {},
   "duration": 14.634466,
   "end_time": "2022-08-07T16:37:46.009619",
   "environment_variables": {},
   "exception": null,
   "input_path": "__notebook__.ipynb",
   "output_path": "__notebook__.ipynb",
   "parameters": {},
   "start_time": "2022-08-07T16:37:31.375153",
   "version": "2.3.4"
  }
 },
 "nbformat": 4,
 "nbformat_minor": 5
}
